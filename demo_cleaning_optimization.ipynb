{
 "cells": [
  {
   "cell_type": "markdown",
   "metadata": {},
   "source": [
    "# Heuristic Optimization"
   ]
  },
  {
   "cell_type": "code",
   "execution_count": null,
   "metadata": {},
   "outputs": [],
   "source": [
    "import soiling_model.cleaning_optimization as co\n",
    "import matplotlib.pyplot as plt\n",
    "import numpy as np\n",
    "from matplotlib import (rcParams,dates,colors)\n",
    "rcParams['figure.figsize'] = (15, 7)"
   ]
  },
  {
   "cell_type": "code",
   "execution_count": null,
   "metadata": {},
   "outputs": [],
   "source": [
    "d = \"woomera_demo/\" \n",
    "params = d+\"parameters.xlsx\"\n",
    "weather = d+'woomera_data.xlsx'\n",
    "SF = d+'SF_woomera_SolarPILOT.csv'            # solar field of 48 sectors located in Woomera\n",
    "climate_file = d+'woomera_location_modified.epw'\n",
    "n_az = 8        # number of azimuth partitions for the field sectors\n",
    "n_rad = 6       # number of radial partitions for the field sectors\n",
    "n_sol_az = 10   # number of solar azimuth angles for the efficiency lookup table\n",
    "n_sol_el = 10   # number of solar elevation angles for the efficiency lookup table\n",
    "second_surface = False # second_surface = False uses a first-surface model for the reflectance loss\n",
    "n_sectors_cleaned_per_truck = 1 # number of sectors cleaned in a day by one truck"
   ]
  },
  {
   "cell_type": "markdown",
   "metadata": {},
   "source": [
    "Build soiling model, import inputs, and sectorize the field"
   ]
  },
  {
   "cell_type": "code",
   "execution_count": null,
   "metadata": {},
   "outputs": [],
   "source": [
    "sec = (n_rad,n_az)\n",
    "opt = co.optimization_problem(params,SF,weather,climate_file,sec,dust_type=\"PM10\",\\\n",
    "    second_surface=second_surface,n_az=n_sol_az,n_el=n_sol_el,verbose=True)\n",
    "opt.field_model.helios.sector_plot()"
   ]
  },
  {
   "cell_type": "markdown",
   "metadata": {},
   "source": [
    "Grid search number of trucks and annual cleans to optimize cleaning resources and frequencies."
   ]
  },
  {
   "cell_type": "code",
   "execution_count": null,
   "metadata": {},
   "outputs": [],
   "source": [
    "helio_area = opt.field_model.helios.height*opt.field_model.helios.width\n",
    "n_helios = opt.field_model.helios.full_field['x'].shape[0]\n",
    "area_per_sector = n_helios/n_az/n_rad*helio_area\n",
    "opt.truck = {   'operator_salary':80e3,\n",
    "                'operators_per_truck_per_day':4,\n",
    "                'purchase_cost':150e3,\n",
    "                'maintenance_costs':15e3,\n",
    "                'useful_life': 4,\n",
    "                'fuel_cost': 0.005*area_per_sector,\n",
    "                'water_cost': 0.005*area_per_sector\n",
    "            }\n",
    "opt.electricty_price = 50/1e6\n",
    "opt.plant_other_maintenace = 0.0\n",
    "opt.plant.receiver['thermal_max'] = 1e3 # MW\n",
    "opt.plant.receiver['thermal_min'] = 105 # MW"
   ]
  },
  {
   "cell_type": "markdown",
   "metadata": {},
   "source": [
    "Optimize via grid search on number of trucks and number of field cleans in a year"
   ]
  },
  {
   "cell_type": "code",
   "execution_count": null,
   "metadata": {},
   "outputs": [],
   "source": [
    "Nt = range(1,10)\n",
    "Nc = range(1,51)\n",
    "TCC = np.nan*np.ones((len(Nt),len(Nc)))\n",
    "for ii in range(len(Nt)):\n",
    "    n_trucks = Nt[ii]\n",
    "    for jj in range(len(Nc)):\n",
    "        n_cleans = Nc[jj]\n",
    "        # print(\"Simulating {0:d} trucks with {1:d} cleans\".format(n_trucks,n_cleans))\n",
    "        results = co.periodic_schedule_tcc(opt,n_trucks,n_cleans,\\\n",
    "            n_sectors_per_truck=n_sectors_cleaned_per_truck,verbose=False)\n",
    "        number_of_cleaning_finishes = results['cleaning_actions'][0].sum(axis=1)[-1]\n",
    "        if  number_of_cleaning_finishes < n_cleans:\n",
    "            print(\"Cleans maxed out\")\n",
    "            break\n",
    "        else:\n",
    "            TCC[ii,jj] = results['total_cleaning_costs']"
   ]
  },
  {
   "cell_type": "code",
   "execution_count": null,
   "metadata": {},
   "outputs": [],
   "source": [
    "fig,ax = plt.subplots()\n",
    "num_cleans = np.arange(start=Nc[0],stop=Nc[-1]+1)\n",
    "for ii in Nt:\n",
    "    ax.plot(num_cleans,TCC[ii-1,:],label=str(ii)+\" trucks\")\n",
    "\n",
    "# optimal for each number of trucks\n",
    "nc_opt = np.nanargmin(TCC,axis=1)\n",
    "ax.plot(num_cleans[nc_opt],TCC[range(len(Nt)),nc_opt],linestyle=\"None\",marker='*')\n",
    "\n",
    "# overall optimal\n",
    "nc_opt = np.nanargmin(TCC)\n",
    "r,c = np.unravel_index(nc_opt,TCC.shape)\n",
    "label_str = \"Optimal ({0:d} trucks, {1:d} cleans)\".format(r+1,c+1)\n",
    "ax.plot(num_cleans[c],TCC[r,c],color='green',linestyle=\"None\",marker='*',label=label_str)\n",
    "\n",
    "ax.set_xlabel(\"Number of field cleans\")\n",
    "ax.set_ylabel(\"Total cleaning cost\")\n",
    "ax.set_ylim((0,15e6))\n",
    "ax.legend()"
   ]
  },
  {
   "cell_type": "code",
   "execution_count": null,
   "metadata": {},
   "outputs": [],
   "source": [
    "results_opt = co.periodic_schedule_tcc(opt,r+1,c+1,\\\n",
    "    n_sectors_per_truck=n_sectors_cleaned_per_truck,verbose=False)\n",
    "nh,nt = results['soiling_factor'][0].shape\n",
    "fig,ax = plt.subplots()\n",
    "sf = results['soiling_factor'][0]\n",
    "ax.plot(sf.mean(axis=0),label=\"Field Average\")\n",
    "ax.plot(nt-1,sf[:,0].mean(),'*')\n",
    "ax.plot(0,sf[:,-1].mean(),'*')\n",
    "ax.axhline(y=np.nanmean(sf),color='red',ls='--',label=\"Averge\")\n",
    "ax.set_xlabel(\"Hour of the year\")\n",
    "ax.set_ylabel(\"Soiling factor\")\n",
    "ax.legend()\n"
   ]
  },
  {
   "cell_type": "markdown",
   "metadata": {},
   "source": [
    "Results for optimum"
   ]
  },
  {
   "cell_type": "code",
   "execution_count": null,
   "metadata": {},
   "outputs": [],
   "source": [
    "cleans = results_opt['cleaning_actions'][0] # same for all runs\n",
    "\"Number of cleans: {0:.1f}\".format(cleans.sum())"
   ]
  },
  {
   "cell_type": "code",
   "execution_count": null,
   "metadata": {},
   "outputs": [],
   "source": [
    "N_sectors = n_az*n_rad\n",
    "ax = plt.subplot()\n",
    "ax.spy(cleans,aspect='auto',marker='.',label=\"cleans\")\n",
    "ax.set_xlabel(\"Hour of the year\")\n",
    "ax.set_ylabel(\"Sector\")\n",
    "ax.legend()"
   ]
  }
 ],
 "metadata": {
  "kernelspec": {
   "display_name": "Python 3.9.7 ('soiling-model-env')",
   "language": "python",
   "name": "python3"
  },
  "language_info": {
   "codemirror_mode": {
    "name": "ipython",
    "version": 3
   },
   "file_extension": ".py",
   "mimetype": "text/x-python",
   "name": "python",
   "nbconvert_exporter": "python",
   "pygments_lexer": "ipython3",
   "version": "3.9.7"
  },
  "vscode": {
   "interpreter": {
    "hash": "f903996b07b1bc16caf4e2ebd950dc0940e161edb0cb64a3559dc92128d3073c"
   }
  }
 },
 "nbformat": 4,
 "nbformat_minor": 2
}
