{
 "cells": [
  {
   "cell_type": "markdown",
   "metadata": {},
   "source": [
    "# Heuristic Optimization"
   ]
  },
  {
   "cell_type": "code",
   "execution_count": null,
   "metadata": {},
   "outputs": [],
   "source": [
    "import soiling_model.cleaning_optimization as co\n",
    "import matplotlib.pyplot as plt\n",
    "import numpy as np\n",
    "from matplotlib import (rcParams,dates,colors)\n",
    "rcParams['figure.figsize'] = (15, 7)"
   ]
  },
  {
   "cell_type": "code",
   "execution_count": null,
   "metadata": {},
   "outputs": [],
   "source": [
    "d = \"woomera_demo/\" \n",
    "params = d+\"parameters.xlsx\"\n",
    "weather = d+'woomera_data.xlsx'\n",
    "SF = d+'SF_woomera_SolarPILOT.csv'            # solar field of 48 sectors located in Woomera\n",
    "climate_file = d+'woomera_location_modified.epw'\n",
    "n_az = 8        # number of azimuth partitions for the field sectors\n",
    "n_rad = 6       # number of radial partitions for the field sectors\n",
    "n_sol_az = 10   # number of solar azimuth angles for the efficiency lookup table\n",
    "n_sol_el = 10   # number of solar elevation angles for the efficiency lookup table\n",
    "second_surface = False # second_surface = False uses a first-surface model for the reflectance loss\n",
    "n_sectors_cleaned_per_truck = 1 # number of sectors cleaned in a day by one truck\n",
    "model_type = 'semi-physical'"
   ]
  },
  {
   "cell_type": "markdown",
   "metadata": {},
   "source": [
    "Build soiling model, import inputs, and sectorize the field"
   ]
  },
  {
   "cell_type": "code",
   "execution_count": null,
   "metadata": {},
   "outputs": [],
   "source": [
    "sec = (n_rad,n_az)\n",
    "opt = co.optimization_problem(  params,\n",
    "                                SF,\n",
    "                                weather,climate_file,sec,\n",
    "                                dust_type=\"PM10\",\n",
    "                                second_surface=second_surface,\n",
    "                                n_az=n_sol_az,\n",
    "                                n_el=n_sol_el,\n",
    "                                verbose=True,\n",
    "                                model_type=model_type,\n",
    "                                ext_options={'grid_size_x':250})"
   ]
  },
  {
   "cell_type": "markdown",
   "metadata": {},
   "source": [
    "Grid search number of trucks and annual cleans to optimize cleaning resources and frequencies."
   ]
  },
  {
   "cell_type": "code",
   "execution_count": null,
   "metadata": {},
   "outputs": [],
   "source": [
    "helio_area = opt.field_model.helios.height*opt.field_model.helios.width\n",
    "n_helios = opt.field_model.helios.full_field['x'].shape[0]\n",
    "area_per_sector = n_helios/n_az/n_rad*helio_area\n",
    "opt.truck = {   'operator_salary':80e3,\n",
    "                'operators_per_truck_per_day':4,\n",
    "                'purchase_cost':150e3,\n",
    "                'maintenance_costs':15e3,\n",
    "                'useful_life': 4,\n",
    "                'fuel_cost': 0.005*area_per_sector,\n",
    "                'water_cost': 0.005*area_per_sector\n",
    "            }\n",
    "opt.electricty_price = 50/1e6\n",
    "opt.plant_other_maintenace = 0.0\n",
    "opt.plant.receiver['thermal_max'] = 1e3 # MW\n",
    "opt.plant.receiver['thermal_min'] = 105 # MW"
   ]
  },
  {
   "cell_type": "markdown",
   "metadata": {},
   "source": [
    "Examine DNI statistics for a certain experiment"
   ]
  },
  {
   "cell_type": "code",
   "execution_count": null,
   "metadata": {},
   "outputs": [],
   "source": [
    "f = 0\n",
    "DNI = opt.simulation_data.dni[f].copy()\n",
    "se = opt.field_model.sun.elevation[f]\n",
    "DNI[se<opt.field_model.sun.stow_angle] = np.nan\n",
    "fig,ax = plt.subplots()\n",
    "ax.hist(DNI)\n",
    "ax.set_title(f\"Hourly DNI in file {f}\")\n",
    "ax.set_xlabel(\"DNI\")\n",
    "ax.set_ylabel(\"Frequency\")"
   ]
  },
  {
   "cell_type": "markdown",
   "metadata": {},
   "source": [
    "Calculate bounds for field-averaged optical efficiency to provide full power under various DNI conditions"
   ]
  },
  {
   "cell_type": "code",
   "execution_count": null,
   "metadata": {},
   "outputs": [],
   "source": [
    "A_total = opt.field_model.helios.sector_area.sum()\n",
    "# DNI_MW = 1e-6*np.nanpercentile(DNI,[50, 60, 70, 80, 90]) # MW/m^2\n",
    "DNI_MW = 1e-6*np.array([200,300,500,700,900,1000])\n",
    "u_limits = opt.plant.receiver['thermal_max']/DNI_MW/A_total\n",
    "l_limits = opt.plant.receiver['thermal_min']/DNI_MW/A_total \n",
    "for ii,d in enumerate(DNI_MW):\n",
    "    print(f\"DNI: {d*1e6:.0f}, eta to hit max thermal of tower: {u_limits[ii]:.3f}\")\n",
    "    print(f\"DNI: {d*1e6:.0f}, eta to hit min thermal of tower: {l_limits[ii]:.3f} \\n\")"
   ]
  },
  {
   "cell_type": "markdown",
   "metadata": {},
   "source": [
    "Examine the soiling losses for each representative heliostat over the year"
   ]
  },
  {
   "cell_type": "code",
   "execution_count": null,
   "metadata": {},
   "outputs": [],
   "source": [
    "f,h = 0,10\n",
    "nrows = 6\n",
    "n_helios,n_hours = opt.field_model.helios.tilt[f].shape\n",
    "ncols = int(n_helios/nrows)\n",
    "fig,ax = plt.subplots(ncols=ncols,nrows=nrows,sharey=True)\n",
    "hours = np.arange(0,n_hours)\n",
    "helios = opt.field_model.helios\n",
    "for r in range(nrows):\n",
    "    for c in range(ncols):\n",
    "        h = ncols*r+c\n",
    "        ax[r,c].plot(hours,helios.delta_soiled_area[f][h,:])\n",
    "        # ax[r,c].hist(helios.delta_soiled_area[f][h,:],100,density=True)\n",
    "        ax[r,c].set_title(f'H_{h} (d={np.sqrt(helios.x[h]**2 + helios.y[h]**2):.0f})')\n",
    "        ax[r,c].set_ylim((0,0.022))\n",
    "        if r < nrows-1:\n",
    "            ax[r,c].set_xticks(())\n",
    "        if c==0:\n",
    "            ax[r,c].set_ylabel(r\"dA @ $0^{\\circ}$ \")\n",
    "fig.suptitle(f\"Soliled area change \"+ r\"($m^2$/$m^2$)\"+f\" at near normal incidence \\n File {f}, loss model is {opt.field_model.loss_model}\")\n",
    "plt.tight_layout()"
   ]
  },
  {
   "cell_type": "markdown",
   "metadata": {},
   "source": [
    "Optimize via grid search on number of trucks and number of field cleans in a year"
   ]
  },
  {
   "cell_type": "code",
   "execution_count": null,
   "metadata": {},
   "outputs": [],
   "source": [
    "Nt = range(1,10)\n",
    "Nc = range(1,51)\n",
    "TCC = np.nan*np.ones((len(Nt),len(Nc)))\n",
    "for ii in range(len(Nt)):\n",
    "    n_trucks = Nt[ii]\n",
    "    for jj in range(len(Nc)):\n",
    "        n_cleans = Nc[jj]\n",
    "        # print(\"Simulating {0:d} trucks with {1:d} cleans\".format(n_trucks,n_cleans))\n",
    "        results = co.periodic_schedule_tcc(opt,n_trucks,n_cleans,\\\n",
    "            n_sectors_per_truck=n_sectors_cleaned_per_truck,verbose=False)\n",
    "        number_of_cleaning_finishes = results['cleaning_actions'][0].sum(axis=1)[-1]\n",
    "        if  number_of_cleaning_finishes < n_cleans:\n",
    "            print(\"Cleans maxed out\")\n",
    "            break\n",
    "        else:\n",
    "            TCC[ii,jj] = results['total_cleaning_costs']"
   ]
  },
  {
   "cell_type": "code",
   "execution_count": null,
   "metadata": {},
   "outputs": [],
   "source": [
    "fig,ax = plt.subplots()\n",
    "num_cleans = np.arange(start=Nc[0],stop=Nc[-1]+1)\n",
    "for ii in Nt:\n",
    "    ax.plot(num_cleans,TCC[ii-1,:],label=str(ii)+\" trucks\")\n",
    "\n",
    "# optimal for each number of trucks\n",
    "nc_opt = np.nanargmin(TCC,axis=1)\n",
    "ax.plot(num_cleans[nc_opt],TCC[range(len(Nt)),nc_opt],linestyle=\"None\",marker='*')\n",
    "\n",
    "# overall optimal\n",
    "nc_opt = np.nanargmin(TCC)\n",
    "r,c = np.unravel_index(nc_opt,TCC.shape)\n",
    "label_str = \"Optimal ({0:d} trucks, {1:d} cleans)\".format(r+1,c+1)\n",
    "ax.plot(num_cleans[c],TCC[r,c],color='green',linestyle=\"None\",marker='*',label=label_str)\n",
    "\n",
    "ax.set_xlabel(\"Number of field cleans\")\n",
    "ax.set_ylabel(\"Total cleaning cost\")\n",
    "ax.set_ylim((0,15e6))\n",
    "ax.legend()"
   ]
  },
  {
   "cell_type": "markdown",
   "metadata": {},
   "source": [
    "Helper functions and strings for plotting"
   ]
  },
  {
   "cell_type": "code",
   "execution_count": null,
   "metadata": {},
   "outputs": [],
   "source": [
    "def add_limits(ax,ulim,llim,DMW):\n",
    "    xl = ax.get_xlim()\n",
    "    xloc = xl[0] + 0.0*(xl[1]-xl[0])\n",
    "    for ii in range(len(ulim)):\n",
    "        if ii == 0:\n",
    "            ax.axhline(y=ulim[ii],color='gray',ls='--',label='Receiver capacity limit')\n",
    "        else:\n",
    "            ax.axhline(y=ulim[ii],color='gray',ls='--',label=None)\n",
    "\n",
    "        if ulim[ii] < 1.0:\n",
    "            ax.text(xloc,ulim[ii],f\"DNI={DMW[ii]*1e6:.0f}\",va='bottom')\n",
    "        \n",
    "\n",
    "        if ii == 0:\n",
    "            ax.axhline(y=llim[ii],color='gray',ls=':',label='Receiver lower limit')\n",
    "        else:\n",
    "            ax.axhline(y=llim[ii],color='gray',ls=':',label=None)\n",
    "\n",
    "        if l_limits[ii] > 0.2:\n",
    "            ax.text(xloc,llim[ii],f\"DNI={DMW[ii]*1e6:.0f}\",va='bottom')\n",
    "\n",
    "title_str = \"\"\"     Results for {0:d} trucks, {1:d} field cleans\n",
    "                    Number of cleans: {2:.1f}, average soiling factor: {3:.3f}\n",
    "                    C_clean: {4:.2e}, C_deg: {5:.2e}\n",
    "                    {6:d} hours off due to soiling, {7:d} hours below upper limit due to soiling\n",
    "             \"\"\"\n"
   ]
  },
  {
   "cell_type": "code",
   "execution_count": null,
   "metadata": {},
   "outputs": [],
   "source": [
    "results_opt = co.periodic_schedule_tcc(opt,r+1,c+1,\\\n",
    "    n_sectors_per_truck=n_sectors_cleaned_per_truck,verbose=False)\n",
    "nh,nt = results_opt['soiling_factor'][0].shape\n",
    "fig,ax = plt.subplots()\n",
    "sf = results_opt['soiling_factor'][0]\n",
    "ax.plot(sf.mean(axis=0),label=\"Field Average\")\n",
    "\n",
    "# add average\n",
    "ax.axhline(y=np.nanmean(sf),color='red',ls='--',label=\"Averge\")\n",
    "ax.set_xlabel(\"Hour of the year\")\n",
    "ax.set_ylabel(\"Soiling factor\")\n",
    "ax.legend()\n",
    "cleans = results_opt['cleaning_actions'][0] # same for all runs\n",
    "ax.set_title(title_str.format(r+1,c+1,cleans.sum(),np.nanmean(sf),\n",
    "                              results_opt['direct_cleaning_costs'].sum(),\n",
    "                              results_opt['degradation_costs'].sum(),\n",
    "                              results_opt['soiling_induced_off_times'],\n",
    "                              results_opt['soiling_induced_drops_below_upper_limit']))\n",
    "ax.set_ylim((0.7,1.0))\n",
    "\n",
    "\n",
    "# ax.set_title()\n"
   ]
  },
  {
   "cell_type": "markdown",
   "metadata": {},
   "source": [
    "Field-averaged efficiency"
   ]
  },
  {
   "cell_type": "code",
   "execution_count": null,
   "metadata": {},
   "outputs": [],
   "source": [
    "nh,nt = results_opt['soiling_factor'][0].shape\n",
    "fig,ax = plt.subplots()\n",
    "sf = results_opt['soiling_factor'][0]\n",
    "eta_clean = opt.field_model.helios.optical_efficiency[f]*opt.field_model.helios.nominal_reflectance\n",
    "eta_soiled = sf*eta_clean\n",
    "ax.plot(np.nanmean(eta_soiled,axis=0),label=\"Field Average (above stow angle only)\")\n",
    "# ax.plot(nt-1,eta_soiled[:,0].mean(),'*')\n",
    "# ax.plot(0,eta_soiled[:,-1].mean(),'*')\n",
    "ax.axhline(y=np.nanmean(eta_soiled),color='red',ls='--',label=\"Averge\")   \n",
    "add_limits(ax,u_limits,l_limits,DNI_MW)\n",
    "\n",
    "ax.set_xlabel(\"Hour of the year\")\n",
    "ax.set_ylabel(\"Field average efficiency w/ soiling\")\n",
    "ax.legend()\n",
    "\n",
    "cleans = results_opt['cleaning_actions'][0] # same for all runs\n",
    "ax.set_title(title_str.format(r+1,c+1,cleans.sum(),np.nanmean(sf),\n",
    "                              results_opt['direct_cleaning_costs'].sum(),\n",
    "                              results_opt['degradation_costs'].sum(),\n",
    "                              results_opt['soiling_induced_off_times'],\n",
    "                              results_opt['soiling_induced_drops_below_upper_limit']))\n",
    "\n",
    "ax.set_ylim((0,1))"
   ]
  },
  {
   "cell_type": "markdown",
   "metadata": {},
   "source": [
    "Schedule for optimum"
   ]
  },
  {
   "cell_type": "code",
   "execution_count": null,
   "metadata": {},
   "outputs": [],
   "source": [
    "N_sectors = n_az*n_rad\n",
    "ax = plt.subplot()\n",
    "ax.spy(cleans,aspect='auto',marker='.',label=\"cleans\")\n",
    "ax.set_xlabel(\"Hour of the year\")\n",
    "ax.set_ylabel(\"Sector\")\n",
    "ax.legend()"
   ]
  },
  {
   "cell_type": "markdown",
   "metadata": {},
   "source": [
    "Results for a chosen sub-optimal combination"
   ]
  },
  {
   "cell_type": "code",
   "execution_count": null,
   "metadata": {},
   "outputs": [],
   "source": [
    "ntr,nc = 2,15\n",
    "results_so = co.periodic_schedule_tcc(opt,ntr,nc,\\\n",
    "    n_sectors_per_truck=n_sectors_cleaned_per_truck,verbose=False)\n",
    "nh,nt = results_so['soiling_factor'][0].shape\n",
    "fig,ax = plt.subplots()\n",
    "sf = results_so['soiling_factor'][0]\n",
    "ax.plot(sf.mean(axis=0),label=\"Field Average\")\n",
    "ax.plot(nt-1,sf[:,0].mean(),'*')\n",
    "ax.plot(0,sf[:,-1].mean(),'*')\n",
    "ax.axhline(y=np.nanmean(sf),color='red',ls='--',label=\"Averge\")\n",
    "ax.set_xlabel(\"Hour of the year\")\n",
    "ax.set_ylabel(\"Soiling factor\")\n",
    "ax.legend()\n",
    "\n",
    "cleans = results_so['cleaning_actions'][0] # same for all runs\n",
    "ax.set_title(title_str.format(ntr,nc,cleans.sum(),np.nanmean(sf),\n",
    "                              results_so['direct_cleaning_costs'].sum(),\n",
    "                              results_so['degradation_costs'].sum(),\n",
    "                              results_so['soiling_induced_off_times'],\n",
    "                              results_so['soiling_induced_drops_below_upper_limit']))\n",
    "ax.set_ylim((0.7,1.0))\n"
   ]
  },
  {
   "cell_type": "markdown",
   "metadata": {},
   "source": [
    "Field optical efficiency analysis"
   ]
  },
  {
   "cell_type": "code",
   "execution_count": null,
   "metadata": {},
   "outputs": [],
   "source": [
    "nh,nt = results_so['soiling_factor'][0].shape\n",
    "fig,ax = plt.subplots()\n",
    "sf = results_so['soiling_factor'][0]\n",
    "eta_clean = opt.field_model.helios.optical_efficiency[f]*opt.field_model.helios.nominal_reflectance\n",
    "eta_soiled = sf*eta_clean\n",
    "ax.plot(np.nanmean(eta_soiled,axis=0),label=\"Field Average (above stow angle only)\")\n",
    "# ax.plot(nt-1,eta_soiled[:,0].mean(),'*')\n",
    "# ax.plot(0,eta_soiled[:,-1].mean(),'*')\n",
    "ax.axhline(y=np.nanmean(eta_soiled),color='red',ls='--',label=\"Averge\")   \n",
    "add_limits(ax,u_limits,l_limits,DNI_MW)\n",
    "\n",
    "ax.set_xlabel(\"Hour of the year\")\n",
    "ax.set_ylabel(\"Field average efficiency w/ soiling\")\n",
    "ax.legend()\n",
    "\n",
    "cleans = results_so['cleaning_actions'][0] # same for all runs\n",
    "ax.set_title(title_str.format(ntr,nc,cleans.sum(),np.nanmean(sf),\n",
    "                              results_so['direct_cleaning_costs'].sum(),\n",
    "                              results_so['degradation_costs'].sum(),\n",
    "                              results_so['soiling_induced_off_times'],\n",
    "                              results_so['soiling_induced_drops_below_upper_limit']))\n",
    "\n",
    "ax.set_ylim((0,1))"
   ]
  }
 ],
 "metadata": {
  "kernelspec": {
   "display_name": "Python 3.9.7 ('soiling-model-env')",
   "language": "python",
   "name": "python3"
  },
  "language_info": {
   "codemirror_mode": {
    "name": "ipython",
    "version": 3
   },
   "file_extension": ".py",
   "mimetype": "text/x-python",
   "name": "python",
   "nbconvert_exporter": "python",
   "pygments_lexer": "ipython3",
   "version": "3.9.7"
  },
  "vscode": {
   "interpreter": {
    "hash": "f903996b07b1bc16caf4e2ebd950dc0940e161edb0cb64a3559dc92128d3073c"
   }
  }
 },
 "nbformat": 4,
 "nbformat_minor": 2
}
