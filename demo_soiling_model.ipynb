{
 "cells": [
  {
   "attachments": {},
   "cell_type": "markdown",
   "metadata": {},
   "source": [
    "# Soiling model demo and cleaning schedule assessment\n",
    "The below code shows how to use the soiling model for a given solar field and assess the impact of a desired cleaning schedule."
   ]
  },
  {
   "cell_type": "code",
   "execution_count": null,
   "metadata": {},
   "outputs": [],
   "source": [
    "import soiling_model.base_models as smb\n",
    "import soiling_model.utilities as smu\n",
    "import matplotlib.pyplot as plt\n",
    "import numpy as np\n",
    "import time\n",
    "\n",
    "d = \"woomera_demo/\"\n",
    "file_params = d+\"parameters.xlsx\"\n",
    "file_weather = d+'woomera_data.xlsx'\n",
    "\n",
    "file_SF = d+'SF_woomera_SolarPILOT.csv'             # solar field of 48 sectors located in Woomera\n",
    "climate_file = d+'woomera_location_modified.epw'    # only used for optical efficiency computation\n",
    "\n",
    "n_az,n_rad = (8,6)   # number of azimuth and radial sectorization of the solar field\n",
    "n_trucks = 4         # number of trucks\n",
    "n_cleans = 10        # number of cleanings in time interval"
   ]
  },
  {
   "attachments": {},
   "cell_type": "markdown",
   "metadata": {},
   "source": [
    "# Instantiate Model\n",
    "Location and solar field parameters are imported and processed to set the required inputs to the subsequent sections of the model.\n",
    "\n",
    "`dust_types` has to be chosen according to the dust measurements, it can be either \"PMX\", or \"TSP\"\n"
   ]
  },
  {
   "cell_type": "code",
   "execution_count": null,
   "metadata": {},
   "outputs": [],
   "source": [
    "imodel = smb.field_model(file_params,file_SF,num_sectors=(n_az,n_rad))\n",
    "sim_data = smb.simulation_inputs(file_weather,dust_type=\"PM10\")\n",
    "plant = smb.plant()\n",
    "plant.import_plant(file_params)\n",
    "imodel.helios.sector_plot()"
   ]
  },
  {
   "attachments": {},
   "cell_type": "markdown",
   "metadata": {},
   "source": [
    "The model proceeds to compute the relevant sun angles (azimuth and zenith) that are required to then evaluate the movement of the heliostats depending on plant design and time of the day."
   ]
  },
  {
   "cell_type": "code",
   "execution_count": null,
   "metadata": {},
   "outputs": [],
   "source": [
    "imodel.sun_angles(sim_data)\n",
    "imodel.helios_angles(plant)\n",
    "imodel.helios.compute_extinction_weights(sim_data,imodel.loss_model,verbose=True)"
   ]
  },
  {
   "attachments": {},
   "cell_type": "markdown",
   "metadata": {},
   "source": [
    "The soiling model is implemented in the following steps. \n",
    "* The amount of dust falling towards the mirrors is calculated in *imodel.deposition_flux*\n",
    "* The balance between adhesive and removal forces acting on the deposited particles is assessed in *imodel.adhesion_removal*. \n",
    "* Since the heliostats are assumed to be stowed almost vertically at night, all particles that would fall on those conditions, are considered to be instantaneously removed (in practical terms, those particles never deposit on the surface).\n",
    "\n",
    "For further information, please refer to [1] from the README.md file.\n",
    "\n",
    "Once the amount of dust particles adhering on the surface of the heliostats has been computed, *imodel.calculate_delta_soilied_area* computes the area of the heliostats that is affected by the adhering dust particles."
   ]
  },
  {
   "cell_type": "code",
   "execution_count": null,
   "metadata": {},
   "outputs": [],
   "source": [
    "imodel.deposition_flux(sim_data)\n",
    "imodel.adhesion_removal(sim_data)\n",
    "imodel.calculate_delta_soiled_area(sim_data)"
   ]
  },
  {
   "attachments": {},
   "cell_type": "markdown",
   "metadata": {},
   "source": [
    "The deposition area flux can be computed and shown for a given pair of air temperature (°C) and wind speed (m/s)."
   ]
  },
  {
   "cell_type": "code",
   "execution_count": null,
   "metadata": {},
   "outputs": [],
   "source": [
    "airT = 20\n",
    "windS = 5\n",
    "experiment = 0\n",
    "imodel.plot_area_flux(sim_data,experiment,airT,windS)"
   ]
  },
  {
   "attachments": {},
   "cell_type": "markdown",
   "metadata": {},
   "source": [
    "The cleaning schedule specified by $n_{trucks}$ and $n_{cleans}$ is subsequently applied. This follows the *Heuristic Approach* described in [3] from README.md. Eventually, the reflectance losses are computed."
   ]
  },
  {
   "cell_type": "code",
   "execution_count": null,
   "metadata": {},
   "outputs": [],
   "source": [
    "cleans = smu.simple_annual_cleaning_schedule(imodel.helios.tilt[0].shape[0],n_trucks,n_cleans,dt=sim_data.dt[0]/3600.00)\n",
    "cleans = imodel.reflectance_loss(sim_data,{0:cleans})"
   ]
  },
  {
   "attachments": {},
   "cell_type": "markdown",
   "metadata": {},
   "source": [
    "The below computes the soiling factor for each sector. An average value for the whole field is also computed."
   ]
  },
  {
   "cell_type": "code",
   "execution_count": null,
   "metadata": {},
   "outputs": [],
   "source": [
    "soiling_factor = imodel.helios.soiling_factor[0] # zero for the first \"run\"\n",
    "field_average_soiling_factor = np.mean(soiling_factor,axis=0)"
   ]
  },
  {
   "attachments": {},
   "cell_type": "markdown",
   "metadata": {},
   "source": [
    "The optical efficiency is computed for every sector (as the average of each heliostat belonging to the sector) in the field using a look-up table with `n_az` solar azimuth angles and `n_el` solar elevation angles. It eventually computes the average for the whole solar field."
   ]
  },
  {
   "cell_type": "code",
   "execution_count": null,
   "metadata": {},
   "outputs": [],
   "source": [
    "imodel.optical_efficiency(plant,sim_data,climate_file,verbose=True,n_az=10,n_el=10)\n",
    "field_average_clean_optical_efficiency = np.mean(imodel.helios.optical_efficiency[0]*imodel.helios.nominal_reflectance,axis=0)"
   ]
  },
  {
   "attachments": {},
   "cell_type": "markdown",
   "metadata": {},
   "source": [
    "The below computes the resulting optical efficiency for each sector in soiled conditions. An average value for the whole field is also computed."
   ]
  },
  {
   "cell_type": "code",
   "execution_count": null,
   "metadata": {},
   "outputs": [],
   "source": [
    "soiled_optical_efficiency = imodel.helios.optical_efficiency[0]*soiling_factor*imodel.helios.nominal_reflectance\n",
    "field_average_soiled_optical_efficiency = np.mean(soiled_optical_efficiency,axis=0)"
   ]
  },
  {
   "attachments": {},
   "cell_type": "markdown",
   "metadata": {},
   "source": [
    "The next section allows to plot the results of the model, including the average soiling factor, the soiling factor for a selected sector, and the optical efficiency of the solar field both in clean and soiled state."
   ]
  },
  {
   "cell_type": "code",
   "execution_count": null,
   "metadata": {},
   "outputs": [],
   "source": [
    "t = sim_data.time[0]\n",
    "sec_plot = 0 # choose sector for plot\n",
    "\n",
    "t0 = 96\n",
    "t1 = 96+96 # hours of the year for the zoomed-in plot\n",
    "\n",
    "# examine field soiling - field average\n",
    "fig, ax = plt.subplots();\n",
    "ax.plot_date(t,field_average_soiling_factor,\"-\");\n",
    "ax.set_xlim(t[t0],t[t1]);\n",
    "ax.set_xlabel(\"Time\");\n",
    "ax.set_ylabel(\"Field-Averaged Soiling Factor [-]\");\n",
    "plt.xticks(rotation=45);\n",
    "\n",
    "# examine sector soiling \n",
    "fig, ax = plt.subplots();\n",
    "ax.plot_date(t,soiling_factor[sec_plot],\"-\");\n",
    "ax.set_xlim(t.iloc[0],t.iloc[-1]);\n",
    "ax.set_xlabel(\"Time\");\n",
    "ax.set_ylabel(\"Soiling Factor [-]\");\n",
    "ax.set_title(\"Sector {0:d}\".format(sec_plot))\n",
    "plt.xticks(rotation=45);"
   ]
  },
  {
   "cell_type": "code",
   "execution_count": null,
   "metadata": {},
   "outputs": [],
   "source": [
    "# examine optical efficiency - field average\n",
    "t0 = 96\n",
    "t1 = 96+96 # hours of the year for the zoomed-in plot\n",
    "\n",
    "# t0 = 4000\n",
    "# t1 = 4000+96 # hours of the year for the zoomed-in plot\n",
    "\n",
    "fig, ax = plt.subplots(ncols=2,sharey=True,figsize=(12,5));\n",
    "ax[0].plot_date(t,field_average_clean_optical_efficiency,\"-\",label='clean')\n",
    "ax[0].plot_date(t,field_average_soiled_optical_efficiency,\"-\",label='soiled')\n",
    "ax[0].set_xlim(t.iloc[0],t.iloc[-1]);\n",
    "ax[0].set_xlabel(\"Time\");\n",
    "ax[0].set_ylabel(\"Field-Averaged Optical Efficiency [-]\");\n",
    "ax[0].set_title(\"Full year\")\n",
    "for label in ax[0].get_xticklabels():\n",
    "    label.set(rotation=45)\n",
    "\n",
    "ax[1].plot_date(t,field_average_clean_optical_efficiency,\"-\",label='clean')\n",
    "ax[1].plot_date(t,field_average_soiled_optical_efficiency,\"-\",label='soiled')\n",
    "ax[1].set_xlim(t[t0],t[t1+10]);\n",
    "ax[1].set_xlabel(\"Time\");\n",
    "ax[1].set_title(\"Zoom in\")\n",
    "plt.xticks(rotation=45);\n",
    "plt.legend()"
   ]
  },
  {
   "attachments": {},
   "cell_type": "markdown",
   "metadata": {},
   "source": [
    "The next plot allows to assess the tilt angle of heliostats, chosing the time frame in hours between `h_start` and `h_end`"
   ]
  },
  {
   "cell_type": "code",
   "execution_count": null,
   "metadata": {},
   "outputs": [],
   "source": [
    "# examine tilts\n",
    "h_start = 0\n",
    "h_end = 48\n",
    "\n",
    "\n",
    "Nhelios = imodel.helios.x.shape[0]\n",
    "tilt = imodel.helios.tilt[0]\n",
    "fig, ax = plt.subplots()\n",
    "for h in range(Nhelios):\n",
    "    ax.plot_date(t,tilt[h,:],\"-\")\n",
    "\n",
    "ax.set_xlim(t[h_start],t[h_end])\n",
    "ax.set_xlabel(\"Time\")\n",
    "ax.set_ylabel(\"Tilt angle (deg)\")\n",
    "plt.xticks(rotation=45)"
   ]
  }
 ],
 "metadata": {
  "kernelspec": {
   "display_name": "Python 3.9.7 ('soiling-model-env')",
   "language": "python",
   "name": "python3"
  },
  "language_info": {
   "codemirror_mode": {
    "name": "ipython",
    "version": 3
   },
   "file_extension": ".py",
   "mimetype": "text/x-python",
   "name": "python",
   "nbconvert_exporter": "python",
   "pygments_lexer": "ipython3",
   "version": "3.9.7"
  },
  "vscode": {
   "interpreter": {
    "hash": "f903996b07b1bc16caf4e2ebd950dc0940e161edb0cb64a3559dc92128d3073c"
   }
  }
 },
 "nbformat": 4,
 "nbformat_minor": 2
}
