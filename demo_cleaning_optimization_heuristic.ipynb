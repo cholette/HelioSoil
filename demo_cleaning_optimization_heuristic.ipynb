{
 "cells": [
  {
   "cell_type": "markdown",
   "metadata": {},
   "source": [
    "# CSP Cleaning Optimization Demonstration\n",
    "Core optimization functions are located in the [`cleaning_optimization.py`](soiling_model/cleaning_optimization.py) module:\n",
    "This demonstration walks through two different cleaning heuristic techniques for the optimization and evaluation of cleaning resources for concentrated solar power (CSP) plants. Cleaning speeds can be either manually set within the parameters.xlsx file or automatically calculated based on the field layout and cleaning operation specifications.\n",
    "\n",
    "## 1. Periodic Schedule Optimization\n",
    "[`optimize_periodic_schedule()`][opt_peri] optimizes cleaning fleet size by:\n",
    "- Finding minimum total cleaning cost configuration\n",
    "- Automatic search bounds determination\n",
    "- Returns optimal truck count and cleaning frequency\n",
    "\n",
    "[`periodic_schedule_tcc()`][perio_tcc] simulates cleaning operations by:\n",
    "- Taking current number of trucks and cleaning frequency as input\n",
    "- Evaluating cost and performance metrics\n",
    "\n",
    "[opt_peri]: soiling_model/cleaning_optimization.py#L104\n",
    "[perio_tcc]: soiling_model/cleaning_optimization.py#L198\n",
    "\n",
    "\n",
    "### Process\n",
    "1. **Search Bounds Determination**\n",
    "   - Finds minimum viable trucks needed\n",
    "   - Calculates maximum possible cleanings per configuration\n",
    "   - Sets search range ±2 trucks from optimal point\n",
    "\n",
    "2. **Grid Search**\n",
    "   - Evaluates all valid combinations within bounds\n",
    "   - Calculates total cleaning costs (TCC):\n",
    "     - Direct cleaning costs (labor, maintenance, consumables)\n",
    "     - Degradation costs (lost power production)\n",
    "   - Identifies global minimum cost solution\n",
    "\n",
    "3. **Outputs**\n",
    "   - Optimal number of trucks\n",
    "   - Optimal cleaning frequency\n",
    "   - Complete cleaning schedule\n",
    "   - Cost breakdown and performance metrics\n",
    "\n",
    "## 2. Rollout Heuristic Optimization\n",
    "Looks over a dynamic horizon (set by the number of cleaning crews used) and sets the cleaning schedule and cleans heliostat sectors based upon the profitability of each action (greedy algorithm)\n",
    "[`optimize_rollout_schedule()`][opt_roll] optimizes the number of cleaning crews by:\n",
    "- Running rollout simulations across truck counts\n",
    "- Finding minimum cost configuration\n",
    "- Expanding search bounds if needed\n",
    "- Returns optimal cleaning fleet size\n",
    "\n",
    "[`rollout_heuristic_tcc()`][roll_tcc] simulates cleaning operations by:\n",
    "- Taking current number of trucks as input for rollout optimization\n",
    "\n",
    "[opt_roll]: soiling_model/cleaning_optimization.py#L319\n",
    "[roll_tcc]: soiling_model/cleaning_optimization.py#L415\n",
    "\n",
    "### Process\n",
    "1. **Daily Optimization**\n",
    "   - Evaluates current field condition\n",
    "   - Predicts future soiling impact\n",
    "   - Calculates revenue for each sector cleaning action\n",
    "\n",
    "2. **Decision Making**\n",
    "   Currently one available methods:\n",
    "   - **Greedy**: Selects highest immediate benefit sector to clean\n",
    "\n",
    "3. **Constraints**\n",
    "   - Truck availability\n",
    "   - Sectors per truck capacity\n",
    "   - Horizon set to days it takes to clean the full field with current truck fleet\n",
    "\n",
    "### Visualization Tools\n",
    "The demo includes several visualization functions:\n",
    "- [`plot_optimization_results()`][opt_plot]: Shows total cleaning cost and optimal cleaning setup across search bounds\n",
    "- [`plot_soiling_factor()`][soil_plot]: Displays soiling factor across cleaning schedule simulation timeframe\n",
    "- [`plot_cleaning_schedule()`][clean_plot]: Shows cleaning schedule against heliostat sector\n",
    "- [`plot_soiled_optical_efficiency()`][eff_plot]: Illustrates efficiency impacts\n",
    "\n",
    "[opt_plot]: soiling_model/cleaning_optimization.py#L922\n",
    "[soil_plot]: soiling_model/cleaning_optimization.py#L1005\n",
    "[clean_plot]: soiling_model/cleaning_optimization.py#L1067\n",
    "[eff_plot]: soiling_model/cleaning_optimization.py#L1113\n",
    "## Comparative Analysis\n",
    "The demo allows comparison between:\n",
    "- Fixed periodic vs rollout scheduling\n",
    "- Cost effectiveness of different strategies\n",
    "- Impact on plant performance\n",
    "- Resource utilization efficiency"
   ]
  },
  {
   "cell_type": "code",
   "execution_count": null,
   "metadata": {},
   "outputs": [],
   "source": [
    "import numpy as np\n",
    "import pandas as pd\n",
    "import matplotlib.pyplot as plt\n",
    "from matplotlib.ticker import MultipleLocator\n",
    "from tqdm.notebook import tqdm\n",
    "from matplotlib import (rcParams,dates,colors,ticker)\n",
    "from matplotlib.dates import DateFormatter\n",
    "rcParams['figure.figsize'] = (15, 7)\n",
    "import soiling_model.cleaning_optimization as co"
   ]
  },
  {
   "cell_type": "code",
   "execution_count": null,
   "metadata": {},
   "outputs": [],
   "source": [
    "# File directories\n",
    "d = \"woomera_demo/\" # Folder containing all the files for the woomera_demo\n",
    "params = d+\"parameters.xlsx\" # Config parameters file\n",
    "weather = d+'woomera_data.xlsx' # weather file containing tsp, wind speed, temperature timeseries data\n",
    "SF = d+'SF_woomera_SolarPILOT.csv' # solarpilot generated solar field located in Woomera\n",
    "climate_file = d+'woomera_location_modified.epw' # solarpilot weather file with latitude, longitude and UTC corrected for Woomera\n",
    "cleaning_rate = 330 # Heliostats cleaned per cleaning crew per shift, Can leave as None to calculate using cleaning truck config parameters and solar field characteristics\n",
    "n_sol_az = 10   # number of solar azimuth angles for the efficiency lookup table\n",
    "n_sol_el = 10  # number of solar elevation angles for the efficiency lookup table\n",
    "second_surface = True # second_surface = False uses a first-surface model for the reflectance loss\n",
    "model_type = 'semi-physical' # semi-physical or simplified"
   ]
  },
  {
   "cell_type": "markdown",
   "metadata": {},
   "source": [
    "Build soiling model, import inputs, and sectorize the field.\n",
    "\n",
    "The heliostat field is sectroized into groups of heliostats with shared properties to reduce computation loads. The number of heliostats within each sector should equal the number of heliostats able to be cleaned by one cleaning crew in one day. This can be adjusted through the 'OptimizationProblem' class with either:\n",
    "\n",
    "    1. num_sectors:Tuple(number of radial sectors, number of axial sectors) \n",
    "\n",
    "or\n",
    "\n",
    "    2. cleaning_rate:Float(heliostats cleaned per cleaning crew per day)"
   ]
  },
  {
   "cell_type": "code",
   "execution_count": null,
   "metadata": {},
   "outputs": [],
   "source": [
    "opt = co.OptimizationProblem(  params,\n",
    "                                SF,\n",
    "                                weather,climate_file,\n",
    "                                num_sectors=None,\n",
    "                                cleaning_rate=cleaning_rate, # Number of heliostats cleaned per cleaning crew per day\n",
    "                                dust_type=\"PM10\", # Airborne dust concentration type, can be PM10 or TSP\n",
    "                                second_surface=second_surface, # second_surface = False uses a first-surface model for the reflectance loss\n",
    "                                n_az=n_sol_az, # Number of solar azimuth angles for the heliostat field optical efficiency lookup table\n",
    "                                n_el=n_sol_el, # Number of solar elevation angles for the heliostat field optical efficiency lookup table\n",
    "                                verbose=True,\n",
    "                                model_type=model_type,\n",
    "                                ext_options={'grid_size_x':250})\n",
    "\n",
    "# Is equivalent in sector size to the manual assignment of sectors through num_sectors:\n",
    "# opt = co.OptimizationProblem(  params,\n",
    "#                                 SF,\n",
    "#                                 weather,climate_file,\n",
    "#                                 num_sectors=(5,6), # Number of groups of heliostats to create in the field, (5,6) means 5 radial by 6 axial sectors = 30 heliostat groups\n",
    "#                                 cleaning_rate=None, \n",
    "#                                 dust_type=\"PM10\", \n",
    "#                                 second_surface=second_surface,\n",
    "#                                 n_az=n_sol_az, \n",
    "#                                 n_el=n_sol_el, \n",
    "#                                 verbose=True,\n",
    "#                                 model_type=model_type,\n",
    "#                                 ext_options={'grid_size_x':250})"
   ]
  },
  {
   "cell_type": "markdown",
   "metadata": {},
   "source": [
    "Examine DNI statistics for a certain experiment"
   ]
  },
  {
   "cell_type": "code",
   "execution_count": null,
   "metadata": {},
   "outputs": [],
   "source": [
    "f = 0\n",
    "DNI = opt.simulation_data.dni[f].copy()\n",
    "se = opt.field_model.sun.elevation[f]\n",
    "DNI[se<opt.field_model.sun.stow_angle] = np.nan\n",
    "\n",
    "fig, ax = plt.subplots()\n",
    "# Calculate weights to normalize to percentage\n",
    "weights = np.ones_like(DNI[~np.isnan(DNI)]) * 100 / len(DNI[~np.isnan(DNI)])\n",
    "\n",
    "# Plot normalized histogram\n",
    "ax.hist(DNI[~np.isnan(DNI)], \n",
    "        bins=np.arange(0, np.nanmax(DNI) + 50, 50), \n",
    "        weights=weights,\n",
    "        align='mid')\n",
    "\n",
    "ax.grid(True, linestyle='--', alpha=0.7)\n",
    "ax.grid(True, which='minor', linestyle=':', alpha=0.4)\n",
    "ax.xaxis.set_minor_locator(MultipleLocator(50))\n",
    "ax.set_title(f\"DNI Distribution in file {f}\")\n",
    "ax.set_xlabel(\"DNI (W/m²)\")\n",
    "ax.set_ylabel(\"Occurrence Rate [%]\")\n",
    "\n",
    "plt.tight_layout()"
   ]
  },
  {
   "cell_type": "markdown",
   "metadata": {},
   "source": [
    "Calculate bounds for field-averaged optical efficiency to provide full power under various DNI conditions"
   ]
  },
  {
   "cell_type": "code",
   "execution_count": null,
   "metadata": {},
   "outputs": [],
   "source": [
    "fig_sector_plot, ax_sector_plot = opt.field_model.helios.sector_plot(show_id=True, cmap_name='turbo_r')"
   ]
  },
  {
   "cell_type": "markdown",
   "metadata": {},
   "source": [
    "Examine the soiling losses for each representative heliostat over the year"
   ]
  },
  {
   "cell_type": "code",
   "execution_count": null,
   "metadata": {},
   "outputs": [],
   "source": [
    "f = 0  # file index\n",
    "nrows, ncols = 3, 3  # 3x3 grid for 9 heliostats\n",
    "n_helios = nrows * ncols\n",
    "n_helios_total = len(opt.field_model.helios.y)\n",
    "# Calculate distances from receiver for all heliostats\n",
    "distances = np.sqrt(opt.field_model.helios.x**2 + opt.field_model.helios.y**2)\n",
    "\n",
    "# Find min and max distances\n",
    "d_min, d_max = np.min(distances), np.max(distances)\n",
    "\n",
    "# Select target distances evenly spaced between min and max\n",
    "target_distances = np.linspace(d_min, d_max, n_helios)\n",
    "\n",
    "# Find heliostats closest to target distances\n",
    "helios_indices = []\n",
    "for target_d in target_distances:\n",
    "    # Find heliostat with distance closest to target\n",
    "    idx = np.argmin(np.abs(distances - target_d))\n",
    "    # Avoid duplicates by marking selected distances as invalid\n",
    "    distances[idx] = np.inf\n",
    "    helios_indices.append(idx)\n",
    "\n",
    "helios_indices = np.array(helios_indices)\n",
    "time_vector = opt.simulation_data.time[f]\n",
    "\n",
    "# Convert datetime to day of year\n",
    "days = np.array([t.timetuple().tm_yday for t in time_vector])\n",
    "unique_days = np.unique(days)\n",
    "\n",
    "# Initialize array for daily sums\n",
    "daily_soil_rate = np.zeros((n_helios_total, len(unique_days)))\n",
    "# Sum delta_soiled_area for each day\n",
    "for i, day in enumerate(unique_days):\n",
    "    day_mask = days == day\n",
    "    daily_soil_rate[:, i] = np.sum(opt.field_model.helios.delta_soiled_area[f][:, day_mask], axis=1)\n",
    "\n",
    "# Create subplot grid\n",
    "fig, ax = plt.subplots(ncols=ncols, nrows=nrows, sharey=True, figsize=(12, 12))\n",
    "\n",
    "# Plot daily values for selected heliostats\n",
    "for i, h in enumerate(helios_indices):\n",
    "    r, c = i // ncols, i % ncols\n",
    "    \n",
    "    # Plot data\n",
    "    ax[r,c].plot(unique_days, daily_soil_rate[h,:]*100, '-')\n",
    "    # Calculate and plot average line\n",
    "    average = np.mean(daily_soil_rate[h,:]*100)\n",
    "    ax[r,c].axhline(y=average, color='r', linestyle='--', label=f'Average: {average:.2f} [p.p./day]')\n",
    "    ax[r,c].legend(fontsize=10)\n",
    "    ax[r,c].set_title(f'Sector:{h} (d={np.sqrt(opt.field_model.helios.x[h]**2 + opt.field_model.helios.y[h]**2):.0f}m)')\n",
    "    \n",
    "    # Set y-limits and ticks for log scale\n",
    "    ymax = 10**(np.ceil(np.log10(np.max(daily_soil_rate*100))))\n",
    "    ymin = 10**(np.floor(np.log10(np.min(daily_soil_rate[daily_soil_rate > 0]*100))))\n",
    "    ax[r,c].set_ylim(ymin, ymax)\n",
    "    ax[r,c].set_yscale('log')\n",
    "    # Add y-label only for leftmost column\n",
    "    if c == 0:\n",
    "        ax[r,c].set_ylabel(r\"Daily $\\Delta$A @ $0^{\\circ}$ [p.p./day]\")\n",
    "    \n",
    "    ax[r,c].set_xlim([unique_days[0], unique_days[-1]])\n",
    "    ax[r,c].tick_params(axis='both', which='major', labelsize=12)\n",
    "    ax[r,c].xaxis.set_major_formatter(DateFormatter('%m'))\n",
    "    # Remove x-ticks except for bottom row\n",
    "    if r >= nrows-1:\n",
    "        ax[r,c].set_xlabel('Month')\n",
    "        \n",
    "    ax[r,c].grid(True)\n",
    "\n",
    "# Add overall title\n",
    "fig.suptitle(f\"Daily Accumulated Soiled Area \"+ r\"($m^2$/$m^2$)\"+\n",
    "             f\"\\nFile {f}, {opt.field_model.loss_model} model\", \n",
    "             y=1.02)\n",
    "\n",
    "plt.tight_layout()"
   ]
  },
  {
   "cell_type": "markdown",
   "metadata": {},
   "source": [
    "# Periodic Schedule Optimization\n",
    "The Periodic Schedule specified by $n_{trucks}$ and $n_{cleans}$ is subsequently applied. This follows the *Heuristic Approach* described in [3] from README.md.\n",
    "Optimization of cleaning operations for a concentrated solar power plant is determined by adapting the:\n",
    "- Number of cleaning trucks (Time it takes to clean the full plant)\n",
    "- Number of cleanings per year (Amount of times each heliostat is cleaned throughout the year)\n",
    "- Cleaning schedule for each sector (More trucks allow for higher cleaning frequencies)\n",
    "## Optimization Process\n",
    "### 1. Cost Components\n",
    "The total cleaning cost (TCC) is the sum of:\n",
    "- **Direct Cleaning Costs**\n",
    "  - Fixed costs (per truck)\n",
    "    - Depreciation \n",
    "    - Maintenance\n",
    "    - Operator salary\n",
    "  - Variable costs (per cleaning)\n",
    "    - Water consumption\n",
    "    - Fuel usage\n",
    "- **Degradation Costs**\n",
    "  - Lost power production due to soiling\n",
    "  - Calculated from reduced reflectivity\n",
    "### 2. Search Strategy\n",
    "1. **Truck Bounds**\n",
    "   - Find a suitable range of trucks to explore costs\n",
    "   - Starts with 1 truck and simulate maximimum cleaning frequency possible\n",
    "   - Increases until costs rise\n",
    "   - Sets bounds within +/- 2 trucks \n",
    "   2. **Cleaning Frequency Bounds**\n",
    "   - Minimum: Based on field coverage requirements\n",
    "   - Maximum: Physical limit of trucks' cleaning capacity\n",
    "\n",
    "3. **Grid Search**\n",
    "   - Evaluates all valid combinations within search bounds\n",
    "   - Finds minimum cost solution\n",
    "## Output\n",
    "Returns optimized solution with:\n",
    "- Optimal number of trucks\n",
    "- Optimal cleaning frequency\n",
    "- Optimal cost results\n",
    "- Grid-searched results"
   ]
  },
  {
   "cell_type": "code",
   "execution_count": null,
   "metadata": {},
   "outputs": [],
   "source": [
    "# Optimize with new bounds\n",
    "results_periodic = co.optimize_periodic_schedule(opt,verbose=True)"
   ]
  },
  {
   "cell_type": "markdown",
   "metadata": {},
   "source": [
    "Total cleaning costs simulation results for the periodic schedule search space. The optimal solution is that with the lowest total cleaning cost."
   ]
  },
  {
   "cell_type": "code",
   "execution_count": null,
   "metadata": {},
   "outputs": [],
   "source": [
    "fig, ax = co.plot_optimization_results(results_periodic, file=f) # Plot the bounded search total cleaning cost against cleaning frequnecy for each number of trucks"
   ]
  },
  {
   "cell_type": "markdown",
   "metadata": {},
   "source": [
    "Create a plot of the expected soiling factor across a steady state year simulation using the optimal periodic schedule."
   ]
  },
  {
   "cell_type": "code",
   "execution_count": null,
   "metadata": {},
   "outputs": [],
   "source": [
    "fig, ax = co.plot_soiling_factor(results_periodic['optimal_results'], file=f)"
   ]
  },
  {
   "cell_type": "markdown",
   "metadata": {},
   "source": [
    "Soiled optical efficiency"
   ]
  },
  {
   "cell_type": "code",
   "execution_count": null,
   "metadata": {},
   "outputs": [],
   "source": [
    "fig, ax = co.plot_soiled_optical_efficiency(opt, results_periodic['optimal_results'], file=f)"
   ]
  },
  {
   "cell_type": "markdown",
   "metadata": {},
   "source": [
    "Create a plot of the cleaning schedule, i.e. which group of heliostats (sector) is cleaned at which day of the year for the optimal periodic schedule"
   ]
  },
  {
   "cell_type": "code",
   "execution_count": null,
   "metadata": {},
   "outputs": [],
   "source": [
    "fig, ax = co.plot_cleaning_schedule(opt, results_periodic['optimal_results'])"
   ]
  },
  {
   "cell_type": "markdown",
   "metadata": {},
   "source": [
    "We can also plot the results from one of the other simulations performed within the bounds by specifying the number of trucks and number of yearly avg cleans for each heliostat."
   ]
  },
  {
   "cell_type": "code",
   "execution_count": null,
   "metadata": {},
   "outputs": [],
   "source": [
    "plot_n_trucks = 4 # number of trucks\n",
    "plot_n_cleans = 20 # number of avg cleanings per year for each heliostat\n",
    "unoptimal_soilfactor_fig, unoptimal_soilfactor_ax = co.plot_soiling_factor(results_periodic['all_results'][plot_n_trucks,plot_n_cleans], file=0)"
   ]
  },
  {
   "cell_type": "markdown",
   "metadata": {},
   "source": [
    "If we want to search outside of the automatic range we can manually specify the range through the 'periodic_schedule_tcc' which runs one simulation with the specified number of trucks and number of cleanings."
   ]
  },
  {
   "cell_type": "code",
   "execution_count": null,
   "metadata": {},
   "outputs": [],
   "source": [
    "simulate_n_trucks = 2 # Number of trucks to simulate for \n",
    "simulate_n_cleans = 50 # Cleaning frequnecy to simulate for\n",
    "simulation_periodic = co.periodic_schedule_tcc(opt, simulate_n_trucks, simulate_n_cleans) # Run one simulation with the specified n_trucks and n_cleans\n",
    "\n",
    "simulation_fig, simulation_ax = co.plot_soiling_factor(simulation_periodic, file=0) # Plot the resulting soiling factor"
   ]
  },
  {
   "cell_type": "markdown",
   "metadata": {},
   "source": [
    "## Rollout Cleaning Schedule Optimization using Heuristic Methods\n",
    "\n",
    "This example demonstrates optimizing heliostat cleaning schedules (number of cleaning crews) in concentrated solar power (CSP) plants using a condition-based heuristic approach. The method was presented within the conferrence SolarPACES (2024) - Rome, Italy. \n",
    "\n",
    "### Model Overview\n",
    "The model performs the following key functions:\n",
    "* Evaluates current field performance and soiling impacts on reflectivity\n",
    "* Forecasts energy production under different cleaning scenarios\n",
    "* Analyzes cleaning costs vs performance gains\n",
    "* Makes dynamic cleaning decisions based on revenue optimization (using perfect knowledge forecasting across a horizon equal the time it takes to clean the full field)\n",
    "\n",
    "### Key Considerations\n",
    "The optimization accounts for real operational constraints including:\n",
    "* Limited cleaning resources\n",
    "* Receiver saturation limits  \n",
    "* Heliostat field layout\n",
    "* Weather conditions and soiling rates\n",
    "* Daily/seasonal solar variations\n",
    "\n",
    "The heuristic uses a rolling horizon to determine optimal timing and targeting of heliostat cleaning operations while maximizing plant economics."
   ]
  },
  {
   "cell_type": "code",
   "execution_count": null,
   "metadata": {},
   "outputs": [],
   "source": [
    "initial_arealoss=results_periodic['optimal_results']['arealoss'][:,0] # We want to use the same initial heliostat soiling state as the best periodic schedule for a fair comparison between the two optimizers\n",
    "results_rollout = co.optimize_rollout_schedule(opt, file=0, verbose=True, initial_arealoss=initial_arealoss) # Run the rollout optimization"
   ]
  },
  {
   "cell_type": "markdown",
   "metadata": {},
   "source": [
    "Rollout dynamically selects the cleaning sector to clean (or not) by attempting to maximize the expected profit over the cleaning horizon using a greedy algorithm. It considers the cost of cleaning a sector and forecasts (currently perfect knowledge) future degradation costs for a clean or no-cleaned sector. It therefore does not follow a periodic cleaning schedule..."
   ]
  },
  {
   "cell_type": "code",
   "execution_count": null,
   "metadata": {},
   "outputs": [],
   "source": [
    "fig, ax = co.plot_cleaning_schedule(opt, results_rollout['optimal_results'])"
   ]
  },
  {
   "cell_type": "markdown",
   "metadata": {},
   "source": [
    "Despite focusing on the maximization of plant profit. Rollout heuristic average soiling factor can be lower then the periodic cleaning, due to either a reduction in cleaning frequency to save on costs or the prioritisation of other heliostat sectors that can generate more profit."
   ]
  },
  {
   "cell_type": "code",
   "execution_count": null,
   "metadata": {},
   "outputs": [],
   "source": [
    "fig, ax = co.plot_soiling_factor(results_rollout['optimal_results'])"
   ]
  },
  {
   "cell_type": "code",
   "execution_count": null,
   "metadata": {},
   "outputs": [],
   "source": [
    "# Plot comparison of periodic and rollout optimization\n",
    "total_sectors = opt.field_model.helios.tilt[f].shape[0]\n",
    "fig, ax = plt.subplots(figsize=(10, 6))\n",
    "\n",
    "# Create color map for all truck numbers\n",
    "all_trucks = sorted(list(set(\n",
    "    [k[0] for k in results_periodic['all_results'].keys()] + \n",
    "    list(results_rollout['all_results'].keys())\n",
    ")))\n",
    "colors = plt.cm.tab10(np.linspace(0, 1, len(all_trucks)))\n",
    "truck_color_map = dict(zip(all_trucks, colors))\n",
    "\n",
    "# Plot periodic results\n",
    "for n_trucks in sorted(set(k[0] for k in results_periodic['all_results'].keys())):\n",
    "    # Get cleanings and costs for this truck count\n",
    "    cleans = []\n",
    "    costs = []\n",
    "    for (nt, nc), result in results_periodic['all_results'].items():\n",
    "        if nt == n_trucks:\n",
    "            cleans.append(nc)\n",
    "            costs.append(result['total_cleaning_costs'][0])\n",
    "    \n",
    "    # Sort by number of cleans\n",
    "    sort_idx = np.argsort(cleans)\n",
    "    cleans = np.array(cleans)[sort_idx]\n",
    "    costs = np.array(costs)[sort_idx]\n",
    "    \n",
    "    # Plot line\n",
    "    ax.plot(cleans, costs/1e6, color=truck_color_map[n_trucks], \n",
    "            label=f\"{n_trucks} trucks\", linewidth=2)\n",
    "\n",
    "# Plot rollout results\n",
    "for n_trucks, result in results_rollout['all_results'].items():\n",
    "    n_cleans = result['cleaning_actions'][f].sum() / total_sectors\n",
    "    cost = result['total_cleaning_costs'][f]\n",
    "    ax.scatter(n_cleans, cost/1e6, color=truck_color_map[n_trucks],\n",
    "              s=100, marker='o')\n",
    "\n",
    "# Get optimal configurations\n",
    "p_trucks = results_periodic['optimal_trucks']\n",
    "p_cleans = results_periodic['optimal_cleans']\n",
    "p_cost = results_periodic['optimal_results']['total_cleaning_costs'][0]\n",
    "\n",
    "r_trucks = results_rollout['optimal_trucks']\n",
    "r_cleans = results_rollout['optimal_results']['cleaning_actions'][f].sum() / total_sectors\n",
    "r_cost = results_rollout['optimal_results']['total_cleaning_costs'][f]\n",
    "\n",
    "# Plot optimal points\n",
    "ax.plot(p_cleans, p_cost/1e6, marker='*', markersize=20,\n",
    "        color=truck_color_map[p_trucks], linestyle='None')\n",
    "ax.plot(r_cleans, r_cost/1e6, marker='p', markersize=15,\n",
    "        color=truck_color_map[r_trucks], linestyle='None')\n",
    "\n",
    "# Calculate percentage difference\n",
    "percent_diff = (r_cost - p_cost) / p_cost * 100\n",
    "\n",
    "# Add dummy lines for legend\n",
    "ax.plot([], [], 'k-', label='Periodic Schedule')\n",
    "ax.plot([], [], 'ko', label='Rollout Schedule')\n",
    "ax.plot([], [], '*', color=truck_color_map[p_trucks], label='Periodic Optimum', markersize=17)\n",
    "ax.plot([], [], 'p', color=truck_color_map[r_trucks], label='Rollout Optimum', markersize=17)\n",
    "\n",
    "# Customize plot\n",
    "ax.set_xlabel(\"Number of Field Cleans/yr\", fontsize=12)\n",
    "ax.set_ylabel(\"Total Cleaning Cost [M$/yr]\", fontsize=12)\n",
    "ax.set_title(f\"Periodic vs Rollout Optimization Comparison\", \n",
    "             fontsize=14, pad=20)\n",
    "ax.grid(True, which='major', linestyle='-', alpha=0.7)\n",
    "ax.grid(True, which='minor', linestyle=':', alpha=0.4)\n",
    "ax.minorticks_on()\n",
    "# Calculate y-axis limits\n",
    "ymax = np.nanmax(p_cleans)*0.3  # Round down to nearest 0.05\n",
    "ax.set_ylim(0, ymax)  # Set y-axis from calculated minimum to 100%\n",
    "legend = ax.legend(fontsize=12, loc='upper right')\n",
    "\n",
    "# Add comparison text box below legend\n",
    "textstr = '\\n'.join((\n",
    "    f'Periodic Schedule:',\n",
    "    f'Trucks: {p_trucks}',\n",
    "    f'Cleanings: {p_cleans:.1f}/yr',\n",
    "    f'Cost: ${p_cost/1e6:.2f}M/yr',\n",
    "    f'\\nRollout Schedule:',\n",
    "    f'Trucks: {r_trucks}',\n",
    "    f'Cleanings: {r_cleans:.1f}/yr',\n",
    "    f'Cost: ${r_cost/1e6:.2f}M/yr',\n",
    "    f'\\nDifference: {percent_diff:.1f}%'\n",
    "))\n",
    "props = dict(boxstyle='round', facecolor='wheat', alpha=0.65)\n",
    "\n",
    "# Position text box just below the legend\n",
    "text_x = legend.get_window_extent().transformed(ax.transAxes.inverted()).x0  # Same x position as legend\n",
    "text_y = 0.95   # Slightly below legend\n",
    "ax.text(text_x, text_y, textstr, transform=ax.transAxes, fontsize=10,\n",
    "        verticalalignment='top', horizontalalignment='right', bbox=props)\n",
    "\n",
    "plt.tight_layout()\n",
    "plt.show()"
   ]
  },
  {
   "cell_type": "markdown",
   "metadata": {},
   "source": [
    "Heliostats that have higher optical efficiency are more likely to be cleaned under a rollout policy"
   ]
  },
  {
   "cell_type": "code",
   "execution_count": null,
   "metadata": {},
   "outputs": [],
   "source": [
    "# Create a sector cleaning map detailing the number of cleanings per sector\n",
    "helios = opt.field_model.helios\n",
    "n_sectors = helios.tilt[f].shape[0]\n",
    "c_map = plt.cm.get_cmap('viridis')\n",
    "sid = helios.full_field['sector_id']\n",
    "time_vector = opt.simulation_data.time[f]\n",
    "\n",
    "# Create DataFrame of cleaning schedule with correct dimensions\n",
    "cleaning_schedule = results_rollout['optimal_results']['cleaning_actions'][f]\n",
    "df_cleaningschedule_rollout = pd.DataFrame(cleaning_schedule.T, index=time_vector)\n",
    "vmax = np.max(np.sum(df_cleaningschedule_rollout, axis=0))\n",
    "vmin = np.min(np.sum(df_cleaningschedule_rollout, axis=0))\n",
    "# Adjust color range to enhance contrast\n",
    "# Create figure\n",
    "fig, ax = plt.subplots(figsize=(12, 10))\n",
    "\n",
    "# Plot each sector\n",
    "for ii in range(n_sectors):\n",
    "    mask = sid == ii\n",
    "    cleanings = np.sum(df_cleaningschedule_rollout.iloc[:,ii])\n",
    "    \n",
    "    # Plot heliostats in sector\n",
    "    ax.scatter(helios.full_field['x'][mask], helios.full_field['y'][mask], \n",
    "              c=[cleanings] * np.sum(mask), \n",
    "              s=12, cmap=c_map, vmax=vmax, vmin=vmin)\n",
    "    \n",
    "    # Add sector ID label with larger font\n",
    "    center_x = np.mean(helios.full_field['x'][mask])\n",
    "    center_y = np.mean(helios.full_field['y'][mask])\n",
    "    ax.text(center_x, center_y, str(ii), \n",
    "            alpha=0.85, ha='center', va='center', fontsize=14)\n",
    "\n",
    "# Customize plot with larger fonts\n",
    "ax.set_title('Rollout Heuristic Sector Cleaning Frequency', fontsize=20, pad=20)\n",
    "ax.set_xlabel('X [m]', fontsize=16)\n",
    "ax.set_ylabel('Y [m]', fontsize=16)\n",
    "ax.tick_params(axis='both', which='major', labelsize=14)\n",
    "ax.set_aspect('equal')\n",
    "\n",
    "# Add colorbar with enhanced styling\n",
    "cbar = plt.colorbar(ax.collections[0])\n",
    "cbar.set_label('Number of cleanings per year', fontsize=16, labelpad=15)\n",
    "cbar.ax.tick_params(labelsize=14)\n",
    "\n",
    "plt.tight_layout()\n",
    "plt.show()"
   ]
  }
 ],
 "metadata": {
  "kernelspec": {
   "display_name": "heliosoil",
   "language": "python",
   "name": "python3"
  },
  "language_info": {
   "codemirror_mode": {
    "name": "ipython",
    "version": 3
   },
   "file_extension": ".py",
   "mimetype": "text/x-python",
   "name": "python",
   "nbconvert_exporter": "python",
   "pygments_lexer": "ipython3",
   "version": "3.10.9"
  }
 },
 "nbformat": 4,
 "nbformat_minor": 2
}
